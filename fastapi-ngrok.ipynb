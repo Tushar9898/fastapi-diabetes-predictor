{
 "cells": [
  {
   "cell_type": "code",
   "execution_count": 1,
   "id": "277ebc39-3b9e-480c-9f0b-a2fa209fa980",
   "metadata": {},
   "outputs": [],
   "source": [
    "# !pip install fastapi \n",
    "# !pip install uvicorn \n",
    "# !pip install pydantic\n",
    "# !pip install scikit-learn\n",
    "# !pip install requests\n",
    "# !pip install pypi-json\n",
    "# !pip install pyngrok\n",
    "# !pip install nest-asyncio"
   ]
  },
  {
   "cell_type": "code",
   "execution_count": 2,
   "id": "b5403914-c018-4420-8b39-a735f71204c4",
   "metadata": {},
   "outputs": [],
   "source": [
    "# Importing libraries\n",
    "from fastapi import FastAPI\n",
    "from pydantic import BaseModel\n",
    "import joblib\n",
    "import json\n",
    "import uvicorn\n",
    "from pyngrok import ngrok\n",
    "from fastapi.middleware.cors import CORSMiddleware\n",
    "import nest_asyncio"
   ]
  },
  {
   "cell_type": "code",
   "execution_count": 3,
   "id": "fdc5c9af-df14-43c1-b00b-140b9ec22e00",
   "metadata": {},
   "outputs": [],
   "source": [
    "app = FastAPI()"
   ]
  },
  {
   "cell_type": "code",
   "execution_count": 4,
   "id": "d6c75039-2c5f-4f6b-a90f-07ec7843fd91",
   "metadata": {},
   "outputs": [],
   "source": [
    "origins = [\"*\"]\n",
    "\n",
    "app.add_middleware(\n",
    "    CORSMiddleware,\n",
    "    allow_origins=origins,\n",
    "    allow_credentials=True,\n",
    "    allow_methods=[\"*\"],\n",
    "    allow_headers=[\"*\"],\n",
    "\n",
    ")"
   ]
  },
  {
   "cell_type": "code",
   "execution_count": 5,
   "id": "b91306e0-8596-4e1e-a38c-48688022e20d",
   "metadata": {},
   "outputs": [],
   "source": [
    "class ModelInput(BaseModel):\n",
    "    Pregnancies: int\n",
    "    Glucose: int\n",
    "    BloodPressure: int\n",
    "    SkinThickness: int\n",
    "    Insulin: int\n",
    "    BMI: float\n",
    "    DiabetesPedigreeFunction: float\n",
    "    Age: int\n"
   ]
  },
  {
   "cell_type": "code",
   "execution_count": 6,
   "id": "26eefd39-056e-4960-b8b9-73dba25fb96a",
   "metadata": {},
   "outputs": [],
   "source": [
    "# ✅ Load model \n",
    "diabetes_model = joblib.load(\"diabetes_model.sav\")"
   ]
  },
  {
   "cell_type": "code",
   "execution_count": 7,
   "id": "d0d9b163-0b3e-4a98-88ae-3f1c170a0f1a",
   "metadata": {},
   "outputs": [],
   "source": [
    "@app.get(\"/\")\n",
    "def root():\n",
    "    return {\"message\": \"Diabetes Prediction API is running 🚀\"}"
   ]
  },
  {
   "cell_type": "code",
   "execution_count": 8,
   "id": "76264caf-3230-4d06-bcfb-bfd7c4a0b1db",
   "metadata": {},
   "outputs": [],
   "source": [
    "@app.post(\"/diabetes_prediction\")\n",
    "def diabetes_pred(input_parameters: ModelInput):\n",
    "    input_list = [[\n",
    "        input_parameters.Pregnancies,\n",
    "        input_parameters.Glucose,\n",
    "        input_parameters.BloodPressure,\n",
    "        input_parameters.SkinThickness,\n",
    "        input_parameters.Insulin,\n",
    "        input_parameters.BMI,\n",
    "        input_parameters.DiabetesPedigreeFunction,\n",
    "        input_parameters.Age\n",
    "    ]]\n",
    "    \n",
    "    prediction = diabetes_model.predict(input_list)\n",
    "    \n",
    "    return {\n",
    "        \"prediction\": int(prediction[0]),\n",
    "        \"message\": \"The person is diabetic\" if prediction[0] == 1 else \"The person is not diabetic\"\n",
    "    }"
   ]
  },
  {
   "cell_type": "code",
   "execution_count": null,
   "id": "6ea1a382-f233-4ba9-aa6c-20c5ee6289e1",
   "metadata": {},
   "outputs": [],
   "source": []
  },
  {
   "cell_type": "code",
   "execution_count": null,
   "id": "e04964d2-b361-408d-9ff4-dc5cbd74f36b",
   "metadata": {},
   "outputs": [
    {
     "name": "stderr",
     "output_type": "stream",
     "text": [
      "t=2025-08-31T11:28:27+0530 lvl=warn msg=\"failed to check for update\" obj=updater err=\"Post \\\"https://update.equinox.io/check\\\": context deadline exceeded\"\n",
      "INFO:     Started server process [554440]\n",
      "INFO:     Waiting for application startup.\n",
      "INFO:     Application startup complete.\n",
      "INFO:     Uvicorn running on http://127.0.0.1:8000 (Press CTRL+C to quit)\n"
     ]
    },
    {
     "name": "stdout",
     "output_type": "stream",
     "text": [
      "Public URL: https://cf2c1c7b7fd8.ngrok-free.app\n",
      "INFO:     2409:40e0:1000:6943:ff6c:8fd5:8aa0:b4db:0 - \"GET / HTTP/1.1\" 200 OK\n",
      "INFO:     2409:40e0:1000:6943:ff6c:8fd5:8aa0:b4db:0 - \"GET /diabetes_prediction HTTP/1.1\" 405 Method Not Allowed\n",
      "INFO:     2409:40e0:1000:6943:ff6c:8fd5:8aa0:b4db:0 - \"GET //diabetes_prediction HTTP/1.1\" 404 Not Found\n",
      "INFO:     2409:40e0:1000:6943:ff6c:8fd5:8aa0:b4db:0 - \"GET /diabetes_prediction HTTP/1.1\" 405 Method Not Allowed\n",
      "INFO:     2409:40e0:1000:6943:ff6c:8fd5:8aa0:b4db:0 - \"GET /docs HTTP/1.1\" 200 OK\n",
      "INFO:     2409:40e0:1000:6943:ff6c:8fd5:8aa0:b4db:0 - \"GET /openapi.json HTTP/1.1\" 200 OK\n",
      "INFO:     2409:40e0:1000:6943:ff6c:8fd5:8aa0:b4db:0 - \"GET /diabetes_prediction HTTP/1.1\" 405 Method Not Allowed\n",
      "INFO:     2409:40e0:1000:6943:ff6c:8fd5:8aa0:b4db:0 - \"GET / HTTP/1.1\" 200 OK\n"
     ]
    },
    {
     "name": "stderr",
     "output_type": "stream",
     "text": [
      "t=2025-08-31T11:31:43+0530 lvl=eror msg=\"heartbeat timeout, terminating session\" obj=tunnels.session obj=csess id=7738a2497edb clientid=c8a0b1ab220baed8f0e2bb7cd3db0988\n",
      "t=2025-08-31T11:31:43+0530 lvl=eror msg=\"session closed, starting reconnect loop\" obj=tunnels.session obj=csess id=ab22732385eb err=\"session closed\"\n",
      "t=2025-08-31T11:31:53+0530 lvl=eror msg=\"failed to reconnect session\" obj=tunnels.session err=\"failed to dial ngrok server with address \\\"connect.us.ngrok-agent.com:443\\\": dial tcp: lookup connect.us.ngrok-agent.com: i/o timeout\"\n",
      "t=2025-08-31T11:32:01+0530 lvl=eror msg=\"failed to reconnect session\" obj=tunnels.session err=\"failed to dial ngrok server with address \\\"connect.us.ngrok-agent.com:443\\\": dial tcp: lookup connect.us.ngrok-agent.com on 127.0.0.53:53: read udp 127.0.0.1:58547->127.0.0.53:53: i/o timeout\"\n",
      "t=2025-08-31T11:32:06+0530 lvl=eror msg=\"failed to reconnect session\" obj=tunnels.session err=\"failed to dial ngrok server with address \\\"connect.us.ngrok-agent.com:443\\\": dial tcp: lookup connect.us.ngrok-agent.com on 127.0.0.53:53: server misbehaving\"\n",
      "t=2025-08-31T11:32:08+0530 lvl=eror msg=\"failed to reconnect session\" obj=tunnels.session err=\"failed to dial ngrok server with address \\\"connect.us.ngrok-agent.com:443\\\": dial tcp: lookup connect.us.ngrok-agent.com on 127.0.0.53:53: server misbehaving\"\n",
      "t=2025-08-31T11:32:12+0530 lvl=eror msg=\"failed to reconnect session\" obj=tunnels.session err=\"failed to dial ngrok server with address \\\"connect.us.ngrok-agent.com:443\\\": dial tcp: lookup connect.us.ngrok-agent.com on 127.0.0.53:53: server misbehaving\"\n",
      "t=2025-08-31T11:32:20+0530 lvl=eror msg=\"failed to reconnect session\" obj=tunnels.session err=\"failed to dial ngrok server with address \\\"connect.us.ngrok-agent.com:443\\\": dial tcp: lookup connect.us.ngrok-agent.com on 127.0.0.53:53: server misbehaving\"\n",
      "t=2025-08-31T11:32:36+0530 lvl=eror msg=\"failed to reconnect session\" obj=tunnels.session err=\"failed to dial ngrok server with address \\\"connect.us.ngrok-agent.com:443\\\": dial tcp: lookup connect.us.ngrok-agent.com on 127.0.0.53:53: server misbehaving\"\n",
      "t=2025-08-31T11:33:06+0530 lvl=eror msg=\"failed to reconnect session\" obj=tunnels.session err=\"failed to dial ngrok server with address \\\"connect.us.ngrok-agent.com:443\\\": dial tcp: lookup connect.us.ngrok-agent.com on 127.0.0.53:53: server misbehaving\"\n",
      "t=2025-08-31T11:33:36+0530 lvl=eror msg=\"failed to reconnect session\" obj=tunnels.session err=\"failed to dial ngrok server with address \\\"connect.us.ngrok-agent.com:443\\\": dial tcp: lookup connect.us.ngrok-agent.com on 127.0.0.53:53: server misbehaving\"\n",
      "t=2025-08-31T11:34:06+0530 lvl=eror msg=\"failed to reconnect session\" obj=tunnels.session err=\"failed to dial ngrok server with address \\\"connect.us.ngrok-agent.com:443\\\": dial tcp: lookup connect.us.ngrok-agent.com on 127.0.0.53:53: server misbehaving\"\n",
      "t=2025-08-31T11:34:36+0530 lvl=eror msg=\"failed to reconnect session\" obj=tunnels.session err=\"failed to dial ngrok server with address \\\"connect.us.ngrok-agent.com:443\\\": dial tcp: lookup connect.us.ngrok-agent.com on 127.0.0.53:53: server misbehaving\"\n",
      "t=2025-08-31T11:35:06+0530 lvl=eror msg=\"failed to reconnect session\" obj=tunnels.session err=\"failed to dial ngrok server with address \\\"connect.us.ngrok-agent.com:443\\\": dial tcp: lookup connect.us.ngrok-agent.com on 127.0.0.53:53: server misbehaving\"\n",
      "t=2025-08-31T11:35:36+0530 lvl=eror msg=\"failed to reconnect session\" obj=tunnels.session err=\"failed to dial ngrok server with address \\\"connect.us.ngrok-agent.com:443\\\": dial tcp: lookup connect.us.ngrok-agent.com on 127.0.0.53:53: server misbehaving\"\n",
      "t=2025-08-31T11:36:06+0530 lvl=eror msg=\"failed to reconnect session\" obj=tunnels.session err=\"failed to dial ngrok server with address \\\"connect.us.ngrok-agent.com:443\\\": dial tcp: lookup connect.us.ngrok-agent.com on 127.0.0.53:53: server misbehaving\"\n",
      "t=2025-08-31T11:36:36+0530 lvl=eror msg=\"failed to reconnect session\" obj=tunnels.session err=\"failed to dial ngrok server with address \\\"connect.us.ngrok-agent.com:443\\\": dial tcp: lookup connect.us.ngrok-agent.com on 127.0.0.53:53: server misbehaving\"\n",
      "t=2025-08-31T11:37:06+0530 lvl=eror msg=\"failed to reconnect session\" obj=tunnels.session err=\"failed to dial ngrok server with address \\\"connect.us.ngrok-agent.com:443\\\": dial tcp: lookup connect.us.ngrok-agent.com on 127.0.0.53:53: server misbehaving\"\n",
      "t=2025-08-31T11:37:36+0530 lvl=eror msg=\"failed to reconnect session\" obj=tunnels.session err=\"failed to dial ngrok server with address \\\"connect.us.ngrok-agent.com:443\\\": dial tcp: lookup connect.us.ngrok-agent.com on 127.0.0.53:53: server misbehaving\"\n",
      "t=2025-08-31T11:38:06+0530 lvl=eror msg=\"failed to reconnect session\" obj=tunnels.session err=\"failed to dial ngrok server with address \\\"connect.us.ngrok-agent.com:443\\\": dial tcp: lookup connect.us.ngrok-agent.com on 127.0.0.53:53: server misbehaving\"\n",
      "t=2025-08-31T11:38:36+0530 lvl=eror msg=\"failed to reconnect session\" obj=tunnels.session err=\"failed to dial ngrok server with address \\\"connect.us.ngrok-agent.com:443\\\": dial tcp: lookup connect.us.ngrok-agent.com on 127.0.0.53:53: server misbehaving\"\n",
      "t=2025-08-31T11:39:06+0530 lvl=eror msg=\"failed to reconnect session\" obj=tunnels.session err=\"failed to dial ngrok server with address \\\"connect.us.ngrok-agent.com:443\\\": dial tcp: lookup connect.us.ngrok-agent.com on 127.0.0.53:53: server misbehaving\"\n"
     ]
    },
    {
     "name": "stdout",
     "output_type": "stream",
     "text": [
      "INFO:     2409:40e0:104d:9895:8995:f4d2:b939:68b8:0 - \"POST /diabetes_prediction HTTP/1.1\" 200 OK\n"
     ]
    },
    {
     "name": "stderr",
     "output_type": "stream",
     "text": [
      "/home/tushar/Downloads/anaconda3/lib/python3.13/site-packages/sklearn/utils/validation.py:2739: UserWarning: X does not have valid feature names, but SVC was fitted with feature names\n",
      "  warnings.warn(\n"
     ]
    }
   ],
   "source": [
    "ngrok_tunnel = ngrok.connect(8000)\n",
    "print('Public URL:',ngrok_tunnel.public_url)\n",
    "nest_asyncio.apply()\n",
    "uvicorn.run(app,port=8000)"
   ]
  },
  {
   "cell_type": "code",
   "execution_count": null,
   "id": "d7592acf-caf7-473e-aea1-f48d69808a5a",
   "metadata": {},
   "outputs": [],
   "source": []
  }
 ],
 "metadata": {
  "kernelspec": {
   "display_name": "Python [conda env:base] *",
   "language": "python",
   "name": "conda-base-py"
  },
  "language_info": {
   "codemirror_mode": {
    "name": "ipython",
    "version": 3
   },
   "file_extension": ".py",
   "mimetype": "text/x-python",
   "name": "python",
   "nbconvert_exporter": "python",
   "pygments_lexer": "ipython3",
   "version": "3.13.5"
  }
 },
 "nbformat": 4,
 "nbformat_minor": 5
}
